{
 "cells": [
  {
   "cell_type": "markdown",
   "metadata": {},
   "source": [
    "# Parse the PDFs, make a vector database"
   ]
  },
  {
   "cell_type": "code",
   "execution_count": 4,
   "metadata": {},
   "outputs": [],
   "source": [
    "import pdfplumber\n",
    "from os import listdir\n",
    "from os.path import isfile, join"
   ]
  },
  {
   "cell_type": "code",
   "execution_count": null,
   "metadata": {},
   "outputs": [],
   "source": [
    "folder_path = \"./demo-pdfs/\"\n",
    "\n",
    "# for every file in the folder name, parse the pdf\n",
    "pdfs = [ pdf for pdf in listdir(folder_path) if isfile(join(folder_path, pdf))]\n",
    "\n",
    "# list of strings\n",
    "text_chunks = []\n",
    "\n",
    "for pdf_path in pdfs:\n",
    "    with pdfplumber.open(folder_path + pdf_path) as pdf:\n",
    "        for page in pdf.pages:\n",
    "            page_text = page.extract_text()\n",
    "            # split the page text into multiple chunks based on the \\n line\n",
    "            page_chunks = page_text.split(sep='\\n')\n",
    "            text_chunks.extend(page_chunks)\n",
    "\n",
    "text_chunks"
   ]
  },
  {
   "cell_type": "code",
   "execution_count": null,
   "metadata": {},
   "outputs": [],
   "source": [
    "# take these chunks & convert them into a vector database using chromadb\n",
    "import chromadb\n",
    "from chromadb.utils import embedding_functions\n",
    "\n",
    "CHROMA_VECTORS_PATH = \"./chroma_vectors/\"\n",
    "DEMO_COLLECTION_NAME = \"Demo-docs\"\n",
    "\n",
    "# What's the difference between Client() and PersistentClient()?\n",
    "client = chromadb.PersistentClient(path=CHROMA_VECTORS_PATH)\n",
    "\n",
    "# by default it uses the model all-MiniLM-L6-v2\n",
    "embedding_fx = embedding_functions.DefaultEmbeddingFunction()\n",
    "\n",
    "collection = client.create_collection(\n",
    "    name = DEMO_COLLECTION_NAME,\n",
    "    embedding_function=embedding_fx,\n",
    "    get_or_create=True\n",
    ")\n",
    "\n",
    "# add the data that was parsed, generating a unique ID for each chunk\n",
    "collection.add(\n",
    "    documents=text_chunks,\n",
    "    ids=[f\"id{i}\" for i in range(len(text_chunks))]\n",
    ")\n"
   ]
  },
  {
   "cell_type": "code",
   "execution_count": null,
   "metadata": {},
   "outputs": [],
   "source": [
    "query_results = collection.query(\n",
    "    query_texts=[\"What is the procedure?\"],\n",
    "    n_results=10,\n",
    ")\n",
    "\n",
    "query_results"
   ]
  },
  {
   "cell_type": "markdown",
   "metadata": {},
   "source": [
    "# Open the model, run the query"
   ]
  },
  {
   "cell_type": "code",
   "execution_count": null,
   "metadata": {},
   "outputs": [],
   "source": []
  },
  {
   "cell_type": "markdown",
   "metadata": {},
   "source": [
    "# Cache the result for performance, store it into the same session based on the PDFs chosen"
   ]
  },
  {
   "cell_type": "code",
   "execution_count": null,
   "metadata": {},
   "outputs": [],
   "source": []
  },
  {
   "cell_type": "markdown",
   "metadata": {},
   "source": [
    "# Optional: add support to immediately load up PDF text"
   ]
  },
  {
   "cell_type": "code",
   "execution_count": null,
   "metadata": {},
   "outputs": [],
   "source": [
    "\"\"\" \n",
    "Flow of communication:\n",
    "1. Ask to load up a particular PDF (or just ask for which PDFs are available)\n",
    "2. Ask what page of the PDF (also provide how many pages there exist in the PDF)\n",
    "3. Ask for summaries of a particular page in the PDF\n",
    "4. Return the text of the PDF (scrolling element) - front end mostly\n",
    "\"\"\""
   ]
  },
  {
   "cell_type": "markdown",
   "metadata": {},
   "source": [
    "# Optional: add database support"
   ]
  },
  {
   "cell_type": "code",
   "execution_count": null,
   "metadata": {},
   "outputs": [],
   "source": [
    "\"\"\" \n",
    "Flow of communication:\n",
    "1. Ask to retrieve a particular table (based on ID/name) - front end\n",
    "2. Retrieve the list of column names, return those\n",
    "3. Input one entry at a time (listing out the different attributes) - front end\n",
    "4. Delete previous entry/undo - front end/back end\n",
    "\"\"\"\n"
   ]
  }
 ],
 "metadata": {
  "kernelspec": {
   "display_name": ".venv",
   "language": "python",
   "name": "python3"
  },
  "language_info": {
   "codemirror_mode": {
    "name": "ipython",
    "version": 3
   },
   "file_extension": ".py",
   "mimetype": "text/x-python",
   "name": "python",
   "nbconvert_exporter": "python",
   "pygments_lexer": "ipython3",
   "version": "3.12.8"
  }
 },
 "nbformat": 4,
 "nbformat_minor": 2
}
